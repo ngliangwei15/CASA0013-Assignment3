{
 "cells": [
  {
   "cell_type": "markdown",
   "id": "03aa0c6f",
   "metadata": {},
   "source": [
    "# CASA0013 FSDS Assignment 3: Data-Led Executive Briefing"
   ]
  },
  {
   "cell_type": "code",
   "execution_count": 9,
   "id": "678aa328",
   "metadata": {},
   "outputs": [],
   "source": [
    "# Import required packages\n",
    "\n",
    "import numpy as np\n",
    "import pandas as pd\n",
    "import geopandas as gpd\n",
    "import re\n",
    "import math"
   ]
  },
  {
   "cell_type": "markdown",
   "id": "e56cefdd",
   "metadata": {},
   "source": [
    "## Proxy 1: Proportion of Total Residential Rent Generated from Airbnb"
   ]
  },
  {
   "cell_type": "markdown",
   "id": "25725ef8",
   "metadata": {},
   "source": [
    "### Airbnb data for 2020\n",
    "\n",
    "Define functions for scalability\n",
    "- Read and clean Airbnb data\n",
    "- Compute estimated occupancy"
   ]
  },
  {
   "cell_type": "code",
   "execution_count": 2,
   "id": "eb195c63",
   "metadata": {},
   "outputs": [],
   "source": [
    "# Define function to read and clean Airbnb data\n",
    "\n",
    "def load_airbnb(date_scraped):\n",
    "    \n",
    "    '''\n",
    "    Load and clean Airbnb data\n",
    "\n",
    "    :param date_scraped: date where Airbnb data is scrapped in yyyymmdd in string format\n",
    "    :return: cleaned up geopandas dataframe\n",
    "    '''\n",
    "    \n",
    "    # Compose url and print message\n",
    "    print(f'Loading and cleaning Airbnb data for {date_scraped}')\n",
    "    url = 'https://github.com/ngliangwei15/CASA0013-Assignment3/blob/main/listings-' + (\n",
    "    date_scraped + '.csv.gz?raw=true')\n",
    "    \n",
    "    # Define columns to read in\n",
    "    cols = ['id', 'latitude', 'longitude', 'room_type', 'price', 'minimum_nights', 'number_of_reviews_ltm']\n",
    "\n",
    "    # Load data\n",
    "    df = pd.read_csv(url, usecols=cols, compression='gzip',low_memory=False)\n",
    "    print(f'{df.shape[0]} listings were loaded.')\n",
    "    \n",
    "    # Remove inactive listing - no listing within last 12 months.\n",
    "    df.drop(df[df['number_of_reviews_ltm'] == 0].index, axis=0, inplace=True)\n",
    "    print(f'{df.shape[0]} listings were left after removing inactive listings.')\n",
    "    \n",
    "    # Keep only entire place listings\n",
    "    df.drop(df[df['room_type'] != 'Entire home/apt'].index, axis=0, inplace=True)\n",
    "    print(f'{df.shape[0]} listings were left after keeping only entire home/apt listings.')\n",
    "    \n",
    "    # Clean the price data\n",
    "    df['price'] = df.price.str.replace('$','').str.replace(',','').astype(float)\n",
    "    \n",
    "    # Convert dataframe into geodataframe\n",
    "    gdf = gpd.GeoDataFrame(df, geometry=gpd.points_from_xy(df['longitude'], df['latitude']), crs='epsg:4326')\n",
    "    gdf = gdf.to_crs('epsg:27700')\n",
    "    \n",
    "    # return cleaned gdf\n",
    "    return gdf"
   ]
  },
  {
   "cell_type": "code",
   "execution_count": 14,
   "id": "9a63eb3b",
   "metadata": {},
   "outputs": [],
   "source": [
    "# Define function to estimate occupancy using the occupancy model, and compute the income from Airbnb\n",
    "\n",
    "def occupancy_model(df, review_rate = 0.5, average_occupancy = 5.3, occupancy_cap = 0.7):\n",
    "    \n",
    "    '''\n",
    "    Compute the estimated occupancy of each listing in the past yearusing the occupancy model\n",
    "\n",
    "    :param gdf: dataframe of Airbnb data\n",
    "    :return: dataframe with occupancy computed\n",
    "    '''\n",
    "    # Compute estimated number of bookings\n",
    "    df['est_bookings'] = df['number_of_reviews_ltm'] / review_rate\n",
    "    \n",
    "    # Compute estimated nights of occupancy\n",
    "    df['est_occupancy'] = df['est_bookings'] * average_occupancy\n",
    "    df['est_occupancy'] = df['est_occupancy'].apply(np.ceil)\n",
    "    \n",
    "    # If listing has higher minimum number of nights, update estimated nights of occupancy\n",
    "    df['est_occupancy'] = df[['minimum_nights','est_occupancy']].max(axis = 1)\n",
    "    \n",
    "    # Cap occupancy rate at 70% of the nights in a year\n",
    "    df.loc[(df['est_occupancy'] > (occupancy_cap * 365)), ['est_occupancy']] = math.floor(occupancy_cap * 365)\n",
    "    \n",
    "    df['airbnb_income'] = df['price'] * df['est_occupancy']\n",
    "    \n",
    "    # return dataframe with occupancy computed for each listing\n",
    "    return df"
   ]
  },
  {
   "cell_type": "markdown",
   "id": "04335b30",
   "metadata": {},
   "source": [
    "Read 2020 data"
   ]
  },
  {
   "cell_type": "code",
   "execution_count": 163,
   "id": "b2ca30c8",
   "metadata": {},
   "outputs": [
    {
     "name": "stdout",
     "output_type": "stream",
     "text": [
      "Loading and cleaning Airbnb data for 20201216\n",
      "77136 listings were loaded.\n",
      "26672 listings were left after removing inactive listings.\n",
      "16031 listings were left after keeping only entire home/apt listings.\n"
     ]
    },
    {
     "name": "stderr",
     "output_type": "stream",
     "text": [
      "/tmp/ipykernel_4517/27761743.py:32: FutureWarning: The default value of regex will change from True to False in a future version. In addition, single character regular expressions will *not* be treated as literal strings when regex=True.\n",
      "  df['price'] = df.price.str.replace('$','').str.replace(',','').astype(float)\n"
     ]
    }
   ],
   "source": [
    "# Load Airbnb data scraped on 16 Dec 2020\n",
    "date_scraped = '20201216'\n",
    "airbnb_2020 = load_airbnb(date_scraped)"
   ]
  },
  {
   "cell_type": "code",
   "execution_count": 164,
   "id": "321b41d3",
   "metadata": {},
   "outputs": [],
   "source": [
    "# Compute estimated occupancy\n",
    "airbnb_2020 = occupancy_model(airbnb_2020)"
   ]
  },
  {
   "cell_type": "markdown",
   "id": "acb3b3c1",
   "metadata": {},
   "source": [
    "### Private rental data for 2020\n",
    "\n",
    "Number of households in private rental in 2020"
   ]
  },
  {
   "cell_type": "code",
   "execution_count": 165,
   "id": "c9a2c052",
   "metadata": {},
   "outputs": [],
   "source": [
    "# Read in data\n",
    "url = 'https://github.com/ngliangwei15/CASA0013-Assignment3/blob/main/tenure-households-borough.xlsx?raw=true'\n",
    "rental_households = pd.read_excel(url, sheet_name = '2020')\n",
    "\n",
    "# Rename and keep only useful columns\n",
    "rental_households.rename({' ': 'Area Code', 'Unnamed: 1': 'Area', 'Unnamed: 5': 'Households'},\n",
    "                         axis = 1, inplace = True)\n",
    "rental_households = rental_households[['Area Code', 'Area', 'Households']]\n",
    "\n",
    "# Keep only data on London boroughs (Area Code starts with E09) and London\n",
    "rental_households.dropna(axis = 0, inplace = True)\n",
    "rental_households = (\n",
    "rental_households[rental_households['Area Code'].str.match(r'E09')|rental_households['Area'].str.match(r'London')])\n",
    "    \n",
    "# Replace suppressed data with 0\n",
    "rental_households = rental_households.replace({'-': 0})\n",
    "\n",
    "# Estimate number of households in City of London\n",
    "rental_households.loc[(rental_households.Area == 'City of London'), ['Households']] = (\n",
    "    rental_households[rental_households.Area == 'London'].Households.values - \n",
    "    sum(rental_households[rental_households.Area != 'London'].Households))\n",
    "\n",
    "# Drop data for London\n",
    "rental_households.drop(rental_households[rental_households.Area == 'London'].index, inplace = True)"
   ]
  },
  {
   "cell_type": "markdown",
   "id": "0563a08f",
   "metadata": {},
   "source": [
    "Define function to read in rental rate data for scalability"
   ]
  },
  {
   "cell_type": "code",
   "execution_count": 85,
   "id": "7d486d6d",
   "metadata": {},
   "outputs": [],
   "source": [
    "# Define function to load and clean private rental rate data\n",
    "\n",
    "def load_rental(year, sheet):\n",
    "    \n",
    "    '''\n",
    "    Load and clean the data on private rental\n",
    "\n",
    "    :param year: year of data\n",
    "    :param sheet: sheet name for property type\n",
    "    :return: cleaned up pandas dataframe\n",
    "    '''\n",
    "    \n",
    "    # Set number of footers to skip\n",
    "    if sheet == 'Table2.2':\n",
    "        footer = 36  # 36 for studio\n",
    "    else:\n",
    "        footer = 37  # 37 for all other property type\n",
    "    \n",
    "    # Read data\n",
    "    url = 'https://github.com/ngliangwei15/CASA0013-Assignment3/blob/main/privaterentalmarketstatistics'+ (\n",
    "        year + '.xls?raw=true')\n",
    "    df = pd.read_excel(url, sheet_name = sheet, skiprows = 6, skipfooter = footer)\n",
    "    \n",
    "    # Drop unused columns\n",
    "    df.drop(columns = ['Unnamed: 0', 'LA Code1'], inplace = True)\n",
    "    \n",
    "    # Keep only data on London boroughs (Area Code starts with E09)\n",
    "    df = df[df['Area Code1'].str.match(r'E09')].sort_values(by = ['Area Code1'], ascending=True)\n",
    "    \n",
    "    # Replace suppressed data with 0\n",
    "    df = df.replace({'-': 0,\n",
    "                     '.': 0,\n",
    "                     '..': 0})\n",
    "    \n",
    "    # return cleaned df\n",
    "    return df.reset_index(drop = True)"
   ]
  },
  {
   "cell_type": "markdown",
   "id": "6506eeb8",
   "metadata": {},
   "source": [
    "Rental rate in 2020"
   ]
  },
  {
   "cell_type": "code",
   "execution_count": 166,
   "id": "5c98378d",
   "metadata": {},
   "outputs": [],
   "source": [
    "# Year\n",
    "year = '2020'\n",
    "\n",
    "# Dictionary for property type and sheet name\n",
    "prop_sheet = {'studio': 'Table2.2',\n",
    "              '1br': 'Table2.3',\n",
    "              '2br': 'Table2.4',\n",
    "              '3br': 'Table2.5',\n",
    "              '4br': 'Table2.6'}\n",
    "\n",
    "# Read data for each property type\n",
    "for prop, sheet in prop_sheet.items():\n",
    "    globals()['rental_' + prop] = load_rental(year, sheet)"
   ]
  },
  {
   "cell_type": "code",
   "execution_count": 167,
   "id": "bb645db1",
   "metadata": {},
   "outputs": [],
   "source": [
    "# Compute average of median rental price, weighted by the count of rents\n",
    "\n",
    "## Initialize dataframe\n",
    "rental2020_median = rental_studio[['Area Code1', 'Area']]\n",
    "\n",
    "## Add two columns - one to track total counts, one to track product of counts and median rental\n",
    "rental2020_median = rental2020_median.reindex(columns = [*rental2020_median.columns.tolist(),\n",
    "                                                         'Counts','Median'], fill_value = 0)\n",
    "\n",
    "## Add counts, and product of counts and median rental, for all property types\n",
    "for prop in prop_sheet.keys():\n",
    "    ## Add counts\n",
    "    rental2020_median.Counts = rental2020_median.Counts + globals()['rental_' + prop]['Count of rents']\n",
    "    ## Add product of counts and median rental\n",
    "    rental2020_median.Median = rental2020_median.Median + (\n",
    "        (globals()['rental_' + prop]['Count of rents'] * globals()['rental_' + prop]['Median']))\n",
    "\n",
    "## Compute average of median rent\n",
    "rental2020_median.Median = rental2020_median.Median / rental2020_median.Counts"
   ]
  },
  {
   "cell_type": "markdown",
   "id": "adc185bc",
   "metadata": {},
   "source": [
    "### London boroughs"
   ]
  },
  {
   "cell_type": "code",
   "execution_count": 168,
   "id": "3c782349",
   "metadata": {},
   "outputs": [
    {
     "name": "stderr",
     "output_type": "stream",
     "text": [
      "/opt/conda/envs/sds2021/lib/python3.9/site-packages/geopandas/geodataframe.py:577: RuntimeWarning: Sequential read of iterator was interrupted. Resetting iterator. This can negatively impact the performance.\n",
      "  for feature in features_lst:\n"
     ]
    }
   ],
   "source": [
    "# Read boundaries\n",
    "url = 'https://github.com/ngliangwei15/CASA0013-Assignment3/blob/main/statistical-gis-boundaries-london.gpkg?raw=true'\n",
    "boros = gpd.read_file(url)\n",
    "boros = boros.to_crs('epsg:27700')\n",
    "\n",
    "# Keep only useful columns\n",
    "boros = boros[['NAME', 'GSS_CODE', 'geometry']]"
   ]
  },
  {
   "cell_type": "markdown",
   "id": "30205e03",
   "metadata": {},
   "source": [
    "### Join and map proxy\n",
    "\n",
    "Compute total income from Airbnb for each borough"
   ]
  },
  {
   "cell_type": "code",
   "execution_count": 169,
   "id": "e3cbff2c",
   "metadata": {},
   "outputs": [],
   "source": [
    "# Join Airbnb listings to boroughs\n",
    "airbnb_2020_boros = gpd.sjoin(airbnb_2020, boros, op = 'within', how = 'left')\n",
    "\n",
    "# Drop listings with no borough names (outside boroughs)\n",
    "airbnb_2020_boros.drop(index=airbnb_2020_boros[airbnb_2020_boros.NAME.isnull()].index, axis=1, inplace=True)\n",
    "\n",
    "# Compute income from Airbnb for each borough\n",
    "airbnb_income_2020 = airbnb_2020_boros.groupby('NAME').agg({\"airbnb_income\": np.sum}).reset_index()\n",
    "\n",
    "# Join back to boros geodataframe\n",
    "boros = boros.merge(airbnb_income_2020, on = 'NAME')"
   ]
  },
  {
   "cell_type": "markdown",
   "id": "d89633ec",
   "metadata": {},
   "source": [
    "Compute total private rental income for each borough"
   ]
  },
  {
   "cell_type": "code",
   "execution_count": 170,
   "id": "830aa4a8",
   "metadata": {},
   "outputs": [],
   "source": [
    "boros['rental_income'] = rental_households.Households.values * rental2020_median.Median.values * 12"
   ]
  },
  {
   "cell_type": "markdown",
   "id": "58e91950",
   "metadata": {},
   "source": [
    "Compute and map proxy 1"
   ]
  },
  {
   "cell_type": "code",
   "execution_count": 171,
   "id": "cbf1dc9f",
   "metadata": {},
   "outputs": [],
   "source": [
    "boros['prop_airbnb'] = boros.airbnb_income / (boros.airbnb_income + boros.rental_income) * 100"
   ]
  },
  {
   "cell_type": "code",
   "execution_count": 172,
   "id": "99c7df12",
   "metadata": {},
   "outputs": [
    {
     "data": {
      "text/plain": [
       "<AxesSubplot:>"
      ]
     },
     "execution_count": 172,
     "metadata": {},
     "output_type": "execute_result"
    },
    {
     "data": {
      "image/png": "[encoded data removed]",
      "text/plain": [
       "<Figure size 432x288 with 2 Axes>"
      ]
     },
     "metadata": {
      "needs_background": "light"
     },
     "output_type": "display_data"
    }
   ],
   "source": [
    "boros.plot(column = 'prop_airbnb', legend = True)"
   ]
  },
  {
   "cell_type": "markdown",
   "id": "5ae77708",
   "metadata": {},
   "source": [
    "## Proxy 2: Proportion of Private Rent Earned by Airbnb Listings"
   ]
  },
  {
   "cell_type": "markdown",
   "id": "dcc9e635",
   "metadata": {},
   "source": [
    "### Airbnb data for 2021"
   ]
  },
  {
   "cell_type": "markdown",
   "id": "12800a45",
   "metadata": {},
   "source": [
    "Read data"
   ]
  },
  {
   "cell_type": "code",
   "execution_count": 173,
   "id": "2cfad158",
   "metadata": {},
   "outputs": [
    {
     "name": "stdout",
     "output_type": "stream",
     "text": [
      "Loading and cleaning Airbnb data for 20211010\n",
      "67903 listings were loaded.\n",
      "19238 listings were left after removing inactive listings.\n",
      "12206 listings were left after keeping only entire home/apt listings.\n"
     ]
    },
    {
     "name": "stderr",
     "output_type": "stream",
     "text": [
      "/tmp/ipykernel_4517/27761743.py:32: FutureWarning: The default value of regex will change from True to False in a future version. In addition, single character regular expressions will *not* be treated as literal strings when regex=True.\n",
      "  df['price'] = df.price.str.replace('$','').str.replace(',','').astype(float)\n"
     ]
    }
   ],
   "source": [
    "# Load Airbnb data scraped on 10 Oct 2021\n",
    "date_scraped = '20211010'\n",
    "airbnb_2021 = load_airbnb(date_scraped)"
   ]
  },
  {
   "cell_type": "markdown",
   "id": "25e5bd19",
   "metadata": {},
   "source": [
    "Compute median Airbnb price"
   ]
  },
  {
   "cell_type": "code",
   "execution_count": 174,
   "id": "8a738d58",
   "metadata": {},
   "outputs": [
    {
     "data": {
      "text/html": [
       "<div>\n",
       "<style scoped>\n",
       "    .dataframe tbody tr th:only-of-type {\n",
       "        vertical-align: middle;\n",
       "    }\n",
       "\n",
       "    .dataframe tbody tr th {\n",
       "        vertical-align: top;\n",
       "    }\n",
       "\n",
       "    .dataframe thead th {\n",
       "        text-align: right;\n",
       "    }\n",
       "</style>\n",
       "<table border=\"1\" class=\"dataframe\">\n",
       "  <thead>\n",
       "    <tr style=\"text-align: right;\">\n",
       "      <th></th>\n",
       "      <th>id</th>\n",
       "      <th>latitude</th>\n",
       "      <th>longitude</th>\n",
       "      <th>room_type</th>\n",
       "      <th>price</th>\n",
       "      <th>minimum_nights</th>\n",
       "      <th>number_of_reviews_ltm</th>\n",
       "      <th>geometry</th>\n",
       "      <th>index_right</th>\n",
       "      <th>NAME</th>\n",
       "      <th>GSS_CODE</th>\n",
       "      <th>airbnb_income</th>\n",
       "      <th>rental_income</th>\n",
       "      <th>prop_airbnb</th>\n",
       "    </tr>\n",
       "  </thead>\n",
       "  <tbody>\n",
       "    <tr>\n",
       "      <th>2</th>\n",
       "      <td>17402</td>\n",
       "      <td>51.521950</td>\n",
       "      <td>-0.14094</td>\n",
       "      <td>Entire home/apt</td>\n",
       "      <td>307.0</td>\n",
       "      <td>4</td>\n",
       "      <td>1</td>\n",
       "      <td>POINT (529075.790 181974.865)</td>\n",
       "      <td>24</td>\n",
       "      <td>Westminster</td>\n",
       "      <td>E09000033</td>\n",
       "      <td>28704682.3</td>\n",
       "      <td>8.104377e+08</td>\n",
       "      <td>3.420716</td>\n",
       "    </tr>\n",
       "    <tr>\n",
       "      <th>7</th>\n",
       "      <td>36299</td>\n",
       "      <td>51.480850</td>\n",
       "      <td>-0.28086</td>\n",
       "      <td>Entire home/apt</td>\n",
       "      <td>195.0</td>\n",
       "      <td>3</td>\n",
       "      <td>4</td>\n",
       "      <td>POINT (519476.347 177167.001)</td>\n",
       "      <td>19</td>\n",
       "      <td>Richmond upon Thames</td>\n",
       "      <td>E09000027</td>\n",
       "      <td>1450892.0</td>\n",
       "      <td>6.111619e+08</td>\n",
       "      <td>0.236837</td>\n",
       "    </tr>\n",
       "    <tr>\n",
       "      <th>23</th>\n",
       "      <td>43202</td>\n",
       "      <td>51.530310</td>\n",
       "      <td>-0.21713</td>\n",
       "      <td>Entire home/apt</td>\n",
       "      <td>130.0</td>\n",
       "      <td>4</td>\n",
       "      <td>4</td>\n",
       "      <td>POINT (523767.567 182773.008)</td>\n",
       "      <td>8</td>\n",
       "      <td>Brent</td>\n",
       "      <td>E09000005</td>\n",
       "      <td>1655799.0</td>\n",
       "      <td>6.972315e+08</td>\n",
       "      <td>0.236919</td>\n",
       "    </tr>\n",
       "    <tr>\n",
       "      <th>32</th>\n",
       "      <td>47687</td>\n",
       "      <td>51.493400</td>\n",
       "      <td>-0.22929</td>\n",
       "      <td>Entire home/apt</td>\n",
       "      <td>78.0</td>\n",
       "      <td>2</td>\n",
       "      <td>1</td>\n",
       "      <td>POINT (523023.442 178647.953)</td>\n",
       "      <td>22</td>\n",
       "      <td>Hammersmith and Fulham</td>\n",
       "      <td>E09000013</td>\n",
       "      <td>3676572.0</td>\n",
       "      <td>5.432929e+08</td>\n",
       "      <td>0.672171</td>\n",
       "    </tr>\n",
       "    <tr>\n",
       "      <th>37</th>\n",
       "      <td>56229</td>\n",
       "      <td>51.495470</td>\n",
       "      <td>-0.22942</td>\n",
       "      <td>Entire home/apt</td>\n",
       "      <td>45.0</td>\n",
       "      <td>5</td>\n",
       "      <td>6</td>\n",
       "      <td>POINT (523008.850 178877.928)</td>\n",
       "      <td>22</td>\n",
       "      <td>Hammersmith and Fulham</td>\n",
       "      <td>E09000013</td>\n",
       "      <td>3676572.0</td>\n",
       "      <td>5.432929e+08</td>\n",
       "      <td>0.672171</td>\n",
       "    </tr>\n",
       "    <tr>\n",
       "      <th>...</th>\n",
       "      <td>...</td>\n",
       "      <td>...</td>\n",
       "      <td>...</td>\n",
       "      <td>...</td>\n",
       "      <td>...</td>\n",
       "      <td>...</td>\n",
       "      <td>...</td>\n",
       "      <td>...</td>\n",
       "      <td>...</td>\n",
       "      <td>...</td>\n",
       "      <td>...</td>\n",
       "      <td>...</td>\n",
       "      <td>...</td>\n",
       "      <td>...</td>\n",
       "    </tr>\n",
       "    <tr>\n",
       "      <th>67685</th>\n",
       "      <td>52615339</td>\n",
       "      <td>51.604481</td>\n",
       "      <td>0.03893</td>\n",
       "      <td>Entire home/apt</td>\n",
       "      <td>54.0</td>\n",
       "      <td>1</td>\n",
       "      <td>1</td>\n",
       "      <td>POINT (541297.910 191484.832)</td>\n",
       "      <td>17</td>\n",
       "      <td>Redbridge</td>\n",
       "      <td>E09000026</td>\n",
       "      <td>316145.0</td>\n",
       "      <td>4.257926e+08</td>\n",
       "      <td>0.074193</td>\n",
       "    </tr>\n",
       "    <tr>\n",
       "      <th>67689</th>\n",
       "      <td>52616026</td>\n",
       "      <td>51.517130</td>\n",
       "      <td>-0.11178</td>\n",
       "      <td>Entire home/apt</td>\n",
       "      <td>759.0</td>\n",
       "      <td>3</td>\n",
       "      <td>1</td>\n",
       "      <td>POINT (531112.540 181490.662)</td>\n",
       "      <td>32</td>\n",
       "      <td>City of London</td>\n",
       "      <td>E09000001</td>\n",
       "      <td>3832597.0</td>\n",
       "      <td>7.561624e+08</td>\n",
       "      <td>0.504292</td>\n",
       "    </tr>\n",
       "    <tr>\n",
       "      <th>67730</th>\n",
       "      <td>52629025</td>\n",
       "      <td>51.606280</td>\n",
       "      <td>-0.19845</td>\n",
       "      <td>Entire home/apt</td>\n",
       "      <td>65.0</td>\n",
       "      <td>5</td>\n",
       "      <td>1</td>\n",
       "      <td>POINT (524855.108 191253.023)</td>\n",
       "      <td>9</td>\n",
       "      <td>Barnet</td>\n",
       "      <td>E09000003</td>\n",
       "      <td>895121.0</td>\n",
       "      <td>3.320100e+08</td>\n",
       "      <td>0.268882</td>\n",
       "    </tr>\n",
       "    <tr>\n",
       "      <th>67756</th>\n",
       "      <td>52644152</td>\n",
       "      <td>51.521250</td>\n",
       "      <td>-0.21100</td>\n",
       "      <td>Entire home/apt</td>\n",
       "      <td>180.0</td>\n",
       "      <td>1</td>\n",
       "      <td>1</td>\n",
       "      <td>POINT (524217.384 181775.869)</td>\n",
       "      <td>23</td>\n",
       "      <td>Kensington and Chelsea</td>\n",
       "      <td>E09000020</td>\n",
       "      <td>10246865.0</td>\n",
       "      <td>5.218344e+08</td>\n",
       "      <td>1.925808</td>\n",
       "    </tr>\n",
       "    <tr>\n",
       "      <th>67827</th>\n",
       "      <td>52669884</td>\n",
       "      <td>51.554540</td>\n",
       "      <td>-0.04903</td>\n",
       "      <td>Entire home/apt</td>\n",
       "      <td>119.0</td>\n",
       "      <td>1</td>\n",
       "      <td>2</td>\n",
       "      <td>POINT (535355.193 185764.961)</td>\n",
       "      <td>28</td>\n",
       "      <td>Hackney</td>\n",
       "      <td>E09000012</td>\n",
       "      <td>5008695.0</td>\n",
       "      <td>2.083924e+08</td>\n",
       "      <td>2.347081</td>\n",
       "    </tr>\n",
       "  </tbody>\n",
       "</table>\n",
       "<p>12206 rows × 14 columns</p>\n",
       "</div>"
      ],
      "text/plain": [
       "             id   latitude  longitude        room_type  price  minimum_nights  \\\n",
       "2         17402  51.521950   -0.14094  Entire home/apt  307.0               4   \n",
       "7         36299  51.480850   -0.28086  Entire home/apt  195.0               3   \n",
       "23        43202  51.530310   -0.21713  Entire home/apt  130.0               4   \n",
       "32        47687  51.493400   -0.22929  Entire home/apt   78.0               2   \n",
       "37        56229  51.495470   -0.22942  Entire home/apt   45.0               5   \n",
       "...         ...        ...        ...              ...    ...             ...   \n",
       "67685  52615339  51.604481    0.03893  Entire home/apt   54.0               1   \n",
       "67689  52616026  51.517130   -0.11178  Entire home/apt  759.0               3   \n",
       "67730  52629025  51.606280   -0.19845  Entire home/apt   65.0               5   \n",
       "67756  52644152  51.521250   -0.21100  Entire home/apt  180.0               1   \n",
       "67827  52669884  51.554540   -0.04903  Entire home/apt  119.0               1   \n",
       "\n",
       "       number_of_reviews_ltm                       geometry  index_right  \\\n",
       "2                          1  POINT (529075.790 181974.865)           24   \n",
       "7                          4  POINT (519476.347 177167.001)           19   \n",
       "23                         4  POINT (523767.567 182773.008)            8   \n",
       "32                         1  POINT (523023.442 178647.953)           22   \n",
       "37                         6  POINT (523008.850 178877.928)           22   \n",
       "...                      ...                            ...          ...   \n",
       "67685                      1  POINT (541297.910 191484.832)           17   \n",
       "67689                      1  POINT (531112.540 181490.662)           32   \n",
       "67730                      1  POINT (524855.108 191253.023)            9   \n",
       "67756                      1  POINT (524217.384 181775.869)           23   \n",
       "67827                      2  POINT (535355.193 185764.961)           28   \n",
       "\n",
       "                         NAME   GSS_CODE  airbnb_income  rental_income  \\\n",
       "2                 Westminster  E09000033     28704682.3   8.104377e+08   \n",
       "7        Richmond upon Thames  E09000027      1450892.0   6.111619e+08   \n",
       "23                      Brent  E09000005      1655799.0   6.972315e+08   \n",
       "32     Hammersmith and Fulham  E09000013      3676572.0   5.432929e+08   \n",
       "37     Hammersmith and Fulham  E09000013      3676572.0   5.432929e+08   \n",
       "...                       ...        ...            ...            ...   \n",
       "67685               Redbridge  E09000026       316145.0   4.257926e+08   \n",
       "67689          City of London  E09000001      3832597.0   7.561624e+08   \n",
       "67730                  Barnet  E09000003       895121.0   3.320100e+08   \n",
       "67756  Kensington and Chelsea  E09000020     10246865.0   5.218344e+08   \n",
       "67827                 Hackney  E09000012      5008695.0   2.083924e+08   \n",
       "\n",
       "       prop_airbnb  \n",
       "2         3.420716  \n",
       "7         0.236837  \n",
       "23        0.236919  \n",
       "32        0.672171  \n",
       "37        0.672171  \n",
       "...            ...  \n",
       "67685     0.074193  \n",
       "67689     0.504292  \n",
       "67730     0.268882  \n",
       "67756     1.925808  \n",
       "67827     2.347081  \n",
       "\n",
       "[12206 rows x 14 columns]"
      ]
     },
     "execution_count": 174,
     "metadata": {},
     "output_type": "execute_result"
    }
   ],
   "source": [
    "# Join Airbnb listings to boroughs\n",
    "airbnb_2021_boros = gpd.sjoin(airbnb_2021, boros, op = 'within', how = 'left')\n",
    "\n",
    "# Drop listings with no borough names (outside boroughs)\n",
    "airbnb_2021_boros.drop(index=airbnb_2021_boros[airbnb_2021_boros.NAME.isnull()].index, axis=1, inplace=True)\n",
    "\n",
    "# Compute median price for Airbnb for each borough\n",
    "airbnb_price_2021 = airbnb_2021_boros.groupby('NAME').agg({\"price\": np.median}).reset_index()\n",
    "\n",
    "# Join back to boros geodataframe\n",
    "boros = boros.merge(airbnb_price_2021, on = 'NAME')"
   ]
  },
  {
   "cell_type": "markdown",
   "id": "5894543e",
   "metadata": {},
   "source": [
    "### Rental data for 2021"
   ]
  },
  {
   "cell_type": "code",
   "execution_count": 180,
   "id": "2db948d6",
   "metadata": {},
   "outputs": [],
   "source": [
    "# Year\n",
    "year = '2021'\n",
    "\n",
    "# Dictionary for property type and sheet name\n",
    "prop_sheet = {'studio': 'Table2.2',\n",
    "              '1br': 'Table2.3',\n",
    "              '2br': 'Table2.4',\n",
    "              '3br': 'Table2.5',\n",
    "              '4br': 'Table2.6'}\n",
    "\n",
    "# Read data for each property type\n",
    "for prop, sheet in prop_sheet.items():\n",
    "    globals()['rental_' + prop] = load_rental(year, sheet)"
   ]
  },
  {
   "cell_type": "code",
   "execution_count": 181,
   "id": "e3a54b56",
   "metadata": {},
   "outputs": [],
   "source": [
    "# Compute average of median rental price, weighted by the count of rents\n",
    "\n",
    "## Initialize dataframe\n",
    "rental2021_median = rental_studio[['Area Code1', 'Area']]\n",
    "\n",
    "## Add two columns - one to track total counts, one to track product of counts and median rental\n",
    "rental2021_median = rental2021_median.reindex(columns = [*rental2021_median.columns.tolist(),\n",
    "                                                         'Counts','Median'], fill_value = 0)\n",
    "\n",
    "## Add counts, and product of counts and median rental, for all property types\n",
    "for prop in prop_sheet.keys():\n",
    "    ## Add counts\n",
    "    rental2021_median.Counts = rental2021_median.Counts + globals()['rental_' + prop]['Count of rents']\n",
    "    ## Add product of counts and median rental\n",
    "    rental2021_median.Median = rental2021_median.Median + (\n",
    "        (globals()['rental_' + prop]['Count of rents'] * globals()['rental_' + prop]['Median']))\n",
    "\n",
    "## Compute average of median rent\n",
    "rental2021_median.Median = rental2021_median.Median / rental2021_median.Counts"
   ]
  },
  {
   "cell_type": "code",
   "execution_count": 184,
   "id": "0f4bed56",
   "metadata": {},
   "outputs": [],
   "source": [
    "# Join median rent to boundaries\n",
    "boros = boros.merge(rental2021_median, left_on = 'GSS_CODE', right_on = 'Area Code1')\n",
    "boros.drop(columns = ['Area Code1', 'Area','Counts'], inplace = True)"
   ]
  },
  {
   "cell_type": "markdown",
   "id": "a08af795",
   "metadata": {},
   "source": [
    "### Compute and map proxy 2"
   ]
  },
  {
   "cell_type": "code",
   "execution_count": 201,
   "id": "cdca9a7c",
   "metadata": {},
   "outputs": [],
   "source": [
    "boros['prop_price'] = (boros.price * 365 * 0.7) / (boros.Median * 12) * 100"
   ]
  },
  {
   "cell_type": "code",
   "execution_count": 203,
   "id": "298af98c",
   "metadata": {},
   "outputs": [
    {
     "data": {
      "text/plain": [
       "<AxesSubplot:>"
      ]
     },
     "execution_count": 203,
     "metadata": {},
     "output_type": "execute_result"
    },
    {
     "data": {
      "image/png": "[encoded data removed]",
      "text/plain": [
       "<Figure size 432x288 with 2 Axes>"
      ]
     },
     "metadata": {
      "needs_background": "light"
     },
     "output_type": "display_data"
    }
   ],
   "source": [
    "boros.plot(column = 'prop_price', legend = True)"
   ]
  },
  {
   "cell_type": "markdown",
   "id": "26391d99",
   "metadata": {},
   "source": [
    "## To do list\n",
    "- sort boros\n",
    "- make the computation of total Airbnb income and median Airbnb price into a function\n",
    "- make the compuatation of median rental rate into a function\n",
    "- standardize naming convention in boro gdf\n",
    "- Investigate Havering"
   ]
  },
  {
   "cell_type": "code",
   "execution_count": null,
   "id": "79b6519b",
   "metadata": {},
   "outputs": [],
   "source": []
  }
 ],
 "metadata": {
  "kernelspec": {
   "display_name": "Python 3 (ipykernel)",
   "language": "python",
   "name": "python3"
  },
  "language_info": {
   "codemirror_mode": {
    "name": "ipython",
    "version": 3
   },
   "file_extension": ".py",
   "mimetype": "text/x-python",
   "name": "python",
   "nbconvert_exporter": "python",
   "pygments_lexer": "ipython3",
   "version": "3.9.6"
  }
 },
 "nbformat": 4,
 "nbformat_minor": 5
}
