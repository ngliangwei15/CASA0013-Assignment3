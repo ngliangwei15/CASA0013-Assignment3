{
 "cells": [
  {
   "cell_type": "markdown",
   "id": "5da7b69d",
   "metadata": {},
   "source": [
    "# CASA0013 FSDS Assignment 3: Data-Led Executive Briefing"
   ]
  },
  {
   "cell_type": "code",
   "execution_count": 1,
   "id": "fbe7f661",
   "metadata": {},
   "outputs": [],
   "source": [
    "# Import required packages\n",
    "\n",
    "import numpy as np\n",
    "import pandas as pd\n",
    "import geopandas as gpd\n",
    "import re\n",
    "import math\n",
    "import matplotlib.pyplot as plt\n",
    "import sklearn.cluster as sklc\n",
    "import sklearn.metrics as sklm\n",
    "from sklearn.preprocessing import MinMaxScaler"
   ]
  },
  {
   "cell_type": "markdown",
   "id": "38b05d64",
   "metadata": {},
   "source": [
    "## Housing Tenure"
   ]
  },
  {
   "cell_type": "code",
   "execution_count": 113,
   "id": "74aeded5",
   "metadata": {},
   "outputs": [
    {
     "data": {
      "text/plain": [
       "<matplotlib.legend.Legend at 0x7f02f88fe7f0>"
      ]
     },
     "execution_count": 113,
     "metadata": {},
     "output_type": "execute_result"
    },
    {
     "data": {
      "image/png": "[encoded data removed]",
      "text/plain": [
       "<Figure size 432x288 with 1 Axes>"
      ]
     },
     "metadata": {
      "needs_background": "light"
     },
     "output_type": "display_data"
    }
   ],
   "source": [
    "# Read in data\n",
    "url = 'https://github.com/ngliangwei15/CASA0013-Assignment3/blob/main/tenure-households-borough.xlsx?raw=true'\n",
    "tenure = pd.concat(pd.read_excel(url, sheet_name = list(map(str, range(2006, 2021)))))\n",
    "\n",
    "# Rename and keep only useful columns\n",
    "tenure_cols = ['Own Outright', 'Buying with Mortgage', 'Social Rental', 'Private Rental']\n",
    "tenure.rename({'Unnamed: 1': 'Area',\n",
    "               'Percentages': tenure_cols[0],\n",
    "               'Unnamed: 15': tenure_cols[1],\n",
    "               'Unnamed: 16': tenure_cols[2],\n",
    "               'Unnamed: 17': tenure_cols[3]},\n",
    "              axis = 1, inplace = True)\n",
    "tenure = tenure[['Area'] + tenure_cols]\n",
    "\n",
    "# Keep only data in London\n",
    "tenure.dropna(subset = ['Area'], axis = 0, inplace = True)\n",
    "tenure = tenure[tenure['Area'].str.match(r'London')]\n",
    "\n",
    "# Reset index to 'Year' column and convert data type\n",
    "tenure.reset_index(level = 0, inplace = True)\n",
    "tenure.rename({'level_0': 'Year'}, axis = 1, inplace = True)\n",
    "tenure['Year'] = tenure['Year'].astype('int', copy = False)\n",
    "tenure[tenure_cols] = tenure[tenure_cols].astype('float', copy = False)\n",
    "\n",
    "# Plot\n",
    "plt.plot(tenure['Year'], tenure[tenure_cols])\n",
    "plt.legend(labels = tenure_cols)"
   ]
  },
  {
   "cell_type": "code",
   "execution_count": 114,
   "id": "ecd12f6a",
   "metadata": {},
   "outputs": [
    {
     "data": {
      "text/html": [
       "<div>\n",
       "<style scoped>\n",
       "    .dataframe tbody tr th:only-of-type {\n",
       "        vertical-align: middle;\n",
       "    }\n",
       "\n",
       "    .dataframe tbody tr th {\n",
       "        vertical-align: top;\n",
       "    }\n",
       "\n",
       "    .dataframe thead th {\n",
       "        text-align: right;\n",
       "    }\n",
       "</style>\n",
       "<table border=\"1\" class=\"dataframe\">\n",
       "  <thead>\n",
       "    <tr style=\"text-align: right;\">\n",
       "      <th></th>\n",
       "      <th>Year</th>\n",
       "      <th>Area</th>\n",
       "      <th>Own Outright</th>\n",
       "      <th>Buying with Mortgage</th>\n",
       "      <th>Social Rental</th>\n",
       "      <th>Private Rental</th>\n",
       "    </tr>\n",
       "  </thead>\n",
       "  <tbody>\n",
       "    <tr>\n",
       "      <th>45</th>\n",
       "      <td>2006</td>\n",
       "      <td>London</td>\n",
       "      <td>22.1</td>\n",
       "      <td>33.4</td>\n",
       "      <td>25.6</td>\n",
       "      <td>18.8</td>\n",
       "    </tr>\n",
       "    <tr>\n",
       "      <th>45</th>\n",
       "      <td>2007</td>\n",
       "      <td>London</td>\n",
       "      <td>22.7</td>\n",
       "      <td>32.6</td>\n",
       "      <td>25.3</td>\n",
       "      <td>19.4</td>\n",
       "    </tr>\n",
       "    <tr>\n",
       "      <th>45</th>\n",
       "      <td>2008</td>\n",
       "      <td>London</td>\n",
       "      <td>22.8</td>\n",
       "      <td>32.1</td>\n",
       "      <td>25.9</td>\n",
       "      <td>19.3</td>\n",
       "    </tr>\n",
       "    <tr>\n",
       "      <th>45</th>\n",
       "      <td>2009</td>\n",
       "      <td>London</td>\n",
       "      <td>22.0</td>\n",
       "      <td>31.3</td>\n",
       "      <td>24.4</td>\n",
       "      <td>22.3</td>\n",
       "    </tr>\n",
       "    <tr>\n",
       "      <th>45</th>\n",
       "      <td>2010</td>\n",
       "      <td>London</td>\n",
       "      <td>22.1</td>\n",
       "      <td>29.3</td>\n",
       "      <td>24.6</td>\n",
       "      <td>24.0</td>\n",
       "    </tr>\n",
       "    <tr>\n",
       "      <th>45</th>\n",
       "      <td>2011</td>\n",
       "      <td>London</td>\n",
       "      <td>22.1</td>\n",
       "      <td>28.5</td>\n",
       "      <td>24.5</td>\n",
       "      <td>24.9</td>\n",
       "    </tr>\n",
       "    <tr>\n",
       "      <th>45</th>\n",
       "      <td>2012</td>\n",
       "      <td>London</td>\n",
       "      <td>23.5</td>\n",
       "      <td>28.7</td>\n",
       "      <td>23.8</td>\n",
       "      <td>24.0</td>\n",
       "    </tr>\n",
       "    <tr>\n",
       "      <th>45</th>\n",
       "      <td>2013</td>\n",
       "      <td>London</td>\n",
       "      <td>23.3</td>\n",
       "      <td>28.6</td>\n",
       "      <td>23.6</td>\n",
       "      <td>24.4</td>\n",
       "    </tr>\n",
       "    <tr>\n",
       "      <th>45</th>\n",
       "      <td>2014</td>\n",
       "      <td>London</td>\n",
       "      <td>23.7</td>\n",
       "      <td>28.2</td>\n",
       "      <td>23.2</td>\n",
       "      <td>24.9</td>\n",
       "    </tr>\n",
       "    <tr>\n",
       "      <th>45</th>\n",
       "      <td>2015</td>\n",
       "      <td>London</td>\n",
       "      <td>22.8</td>\n",
       "      <td>28.9</td>\n",
       "      <td>23.5</td>\n",
       "      <td>24.8</td>\n",
       "    </tr>\n",
       "    <tr>\n",
       "      <th>45</th>\n",
       "      <td>2016</td>\n",
       "      <td>London</td>\n",
       "      <td>22.9</td>\n",
       "      <td>28.4</td>\n",
       "      <td>23.2</td>\n",
       "      <td>25.6</td>\n",
       "    </tr>\n",
       "    <tr>\n",
       "      <th>45</th>\n",
       "      <td>2017</td>\n",
       "      <td>London</td>\n",
       "      <td>24.1</td>\n",
       "      <td>28.3</td>\n",
       "      <td>22.3</td>\n",
       "      <td>25.3</td>\n",
       "    </tr>\n",
       "    <tr>\n",
       "      <th>45</th>\n",
       "      <td>2018</td>\n",
       "      <td>London</td>\n",
       "      <td>24.4</td>\n",
       "      <td>28.3</td>\n",
       "      <td>22.3</td>\n",
       "      <td>25.0</td>\n",
       "    </tr>\n",
       "    <tr>\n",
       "      <th>45</th>\n",
       "      <td>2019</td>\n",
       "      <td>London</td>\n",
       "      <td>24.3</td>\n",
       "      <td>26.4</td>\n",
       "      <td>22.8</td>\n",
       "      <td>26.6</td>\n",
       "    </tr>\n",
       "    <tr>\n",
       "      <th>45</th>\n",
       "      <td>2020</td>\n",
       "      <td>London</td>\n",
       "      <td>26.2</td>\n",
       "      <td>28.4</td>\n",
       "      <td>21.0</td>\n",
       "      <td>24.4</td>\n",
       "    </tr>\n",
       "  </tbody>\n",
       "</table>\n",
       "</div>"
      ],
      "text/plain": [
       "    Year    Area  Own Outright  Buying with Mortgage  Social Rental  \\\n",
       "45  2006  London          22.1                  33.4           25.6   \n",
       "45  2007  London          22.7                  32.6           25.3   \n",
       "45  2008  London          22.8                  32.1           25.9   \n",
       "45  2009  London          22.0                  31.3           24.4   \n",
       "45  2010  London          22.1                  29.3           24.6   \n",
       "45  2011  London          22.1                  28.5           24.5   \n",
       "45  2012  London          23.5                  28.7           23.8   \n",
       "45  2013  London          23.3                  28.6           23.6   \n",
       "45  2014  London          23.7                  28.2           23.2   \n",
       "45  2015  London          22.8                  28.9           23.5   \n",
       "45  2016  London          22.9                  28.4           23.2   \n",
       "45  2017  London          24.1                  28.3           22.3   \n",
       "45  2018  London          24.4                  28.3           22.3   \n",
       "45  2019  London          24.3                  26.4           22.8   \n",
       "45  2020  London          26.2                  28.4           21.0   \n",
       "\n",
       "    Private Rental  \n",
       "45            18.8  \n",
       "45            19.4  \n",
       "45            19.3  \n",
       "45            22.3  \n",
       "45            24.0  \n",
       "45            24.9  \n",
       "45            24.0  \n",
       "45            24.4  \n",
       "45            24.9  \n",
       "45            24.8  \n",
       "45            25.6  \n",
       "45            25.3  \n",
       "45            25.0  \n",
       "45            26.6  \n",
       "45            24.4  "
      ]
     },
     "execution_count": 114,
     "metadata": {},
     "output_type": "execute_result"
    }
   ],
   "source": [
    "tenure"
   ]
  },
  {
   "cell_type": "markdown",
   "id": "8ab92364",
   "metadata": {},
   "source": [
    "## Proxy 1: Proportion of Total Residential Rent Generated from Airbnb"
   ]
  },
  {
   "cell_type": "markdown",
   "id": "a1acc69f",
   "metadata": {},
   "source": [
    "### Airbnb data for 2020\n",
    "\n",
    "Define functions for scalability\n",
    "- Read and clean Airbnb data\n",
    "- Compute estimated occupancy"
   ]
  },
  {
   "cell_type": "code",
   "execution_count": 2,
   "id": "a7823dd6",
   "metadata": {},
   "outputs": [],
   "source": [
    "# Define function to read and clean Airbnb data\n",
    "\n",
    "def load_airbnb(date_scraped):\n",
    "    \n",
    "    '''\n",
    "    Load and clean Airbnb data\n",
    "\n",
    "    :param date_scraped: date where Airbnb data is scrapped in yyyymmdd in string format\n",
    "    :return: cleaned up geopandas dataframe\n",
    "    '''\n",
    "    \n",
    "    # Compose url and print message\n",
    "    print(f'Loading and cleaning Airbnb data for {date_scraped}')\n",
    "    url = 'https://github.com/ngliangwei15/CASA0013-Assignment3/blob/main/listings-' + (\n",
    "    date_scraped + '.csv.gz?raw=true')\n",
    "    \n",
    "    # Define columns to read in\n",
    "    cols = ['id', 'latitude', 'longitude', 'room_type', 'price', 'minimum_nights', 'number_of_reviews_ltm']\n",
    "\n",
    "    # Load data\n",
    "    df = pd.read_csv(url, usecols=cols, compression='gzip',low_memory=False)\n",
    "    print(f'{df.shape[0]} listings were loaded.')\n",
    "    \n",
    "    # Remove inactive listing - no listing within last 12 months.\n",
    "    df.drop(df[df['number_of_reviews_ltm'] == 0].index, axis=0, inplace=True)\n",
    "    print(f'{df.shape[0]} listings were left after removing inactive listings.')\n",
    "    \n",
    "    # Keep only entire place listings\n",
    "    df.drop(df[df['room_type'] != 'Entire home/apt'].index, axis=0, inplace=True)\n",
    "    print(f'{df.shape[0]} listings were left after keeping only entire home/apt listings.')\n",
    "    \n",
    "    # Clean the price data\n",
    "    df['price'] = df.price.str.replace('$','').str.replace(',','').astype(float)\n",
    "    \n",
    "    # Convert dataframe into geodataframe\n",
    "    gdf = gpd.GeoDataFrame(df, geometry=gpd.points_from_xy(df['longitude'], df['latitude']), crs='epsg:4326')\n",
    "    gdf = gdf.to_crs('epsg:27700')\n",
    "    \n",
    "    # return cleaned gdf\n",
    "    return gdf"
   ]
  },
  {
   "cell_type": "code",
   "execution_count": 3,
   "id": "b6dc3f49",
   "metadata": {},
   "outputs": [],
   "source": [
    "# Define function to estimate occupancy using the occupancy model, and compute the income from Airbnb\n",
    "\n",
    "def occupancy_model(df, review_rate = 0.5, average_occupancy = 5.3, occupancy_cap = 0.7):\n",
    "    \n",
    "    '''\n",
    "    Compute the estimated occupancy of each listing in the past yearusing the occupancy model\n",
    "\n",
    "    :param gdf: dataframe of Airbnb data\n",
    "    :return: dataframe with occupancy computed\n",
    "    '''\n",
    "    # Compute estimated number of bookings\n",
    "    df['est_bookings'] = df['number_of_reviews_ltm'] / review_rate\n",
    "    \n",
    "    # Compute estimated nights of occupancy\n",
    "    df['est_occupancy'] = df['est_bookings'] * average_occupancy\n",
    "    df['est_occupancy'] = df['est_occupancy'].apply(np.ceil)\n",
    "    \n",
    "    # If listing has higher minimum number of nights, update estimated nights of occupancy\n",
    "    df['est_occupancy'] = df[['minimum_nights','est_occupancy']].max(axis = 1)\n",
    "    \n",
    "    # Cap occupancy rate at 70% of the nights in a year\n",
    "    df.loc[(df['est_occupancy'] > (occupancy_cap * 365)), ['est_occupancy']] = math.floor(occupancy_cap * 365)\n",
    "    \n",
    "    df['airbnb_income'] = df['price'] * df['est_occupancy']\n",
    "    \n",
    "    # return dataframe with occupancy computed for each listing\n",
    "    return df"
   ]
  },
  {
   "cell_type": "markdown",
   "id": "7e1936b6",
   "metadata": {},
   "source": [
    "Read 2020 data"
   ]
  },
  {
   "cell_type": "code",
   "execution_count": 4,
   "id": "20e7f8ca",
   "metadata": {},
   "outputs": [
    {
     "name": "stdout",
     "output_type": "stream",
     "text": [
      "Loading and cleaning Airbnb data for 20201216\n",
      "77136 listings were loaded.\n",
      "26672 listings were left after removing inactive listings.\n",
      "16031 listings were left after keeping only entire home/apt listings.\n"
     ]
    },
    {
     "name": "stderr",
     "output_type": "stream",
     "text": [
      "/tmp/ipykernel_78/1773992481.py:33: FutureWarning: The default value of regex will change from True to False in a future version. In addition, single character regular expressions will *not* be treated as literal strings when regex=True.\n",
      "  df['price'] = df.price.str.replace('$','').str.replace(',','').astype(float)\n"
     ]
    }
   ],
   "source": [
    "# Load Airbnb data scraped on 16 Dec 2020\n",
    "date_scraped = '20201216'\n",
    "airbnb_2020 = load_airbnb(date_scraped)"
   ]
  },
  {
   "cell_type": "code",
   "execution_count": 5,
   "id": "e9209f9e",
   "metadata": {},
   "outputs": [],
   "source": [
    "# Compute estimated occupancy\n",
    "airbnb_2020 = occupancy_model(airbnb_2020)"
   ]
  },
  {
   "cell_type": "markdown",
   "id": "7f74546e",
   "metadata": {},
   "source": [
    "### Private rental data for 2020\n",
    "\n",
    "Number of households in private rental in 2020"
   ]
  },
  {
   "cell_type": "code",
   "execution_count": 6,
   "id": "67ec3444",
   "metadata": {},
   "outputs": [],
   "source": [
    "# Read in data\n",
    "url = 'https://github.com/ngliangwei15/CASA0013-Assignment3/blob/main/tenure-households-borough.xlsx?raw=true'\n",
    "rental_households = pd.read_excel(url, sheet_name = '2020')\n",
    "\n",
    "# Rename and keep only useful columns\n",
    "rental_households.rename({' ': 'Area Code', 'Unnamed: 1': 'Area', 'Unnamed: 5': 'Households'},\n",
    "                         axis = 1, inplace = True)\n",
    "rental_households = rental_households[['Area Code', 'Area', 'Households']]\n",
    "\n",
    "# Keep only data on London boroughs (Area Code starts with E09) and London\n",
    "rental_households.dropna(axis = 0, inplace = True)\n",
    "rental_households = (\n",
    "rental_households[rental_households['Area Code'].str.match(r'E09')|rental_households['Area'].str.match(r'London')])\n",
    "    \n",
    "# Replace suppressed data with 0\n",
    "rental_households = rental_households.replace({'-': 0})\n",
    "\n",
    "# Estimate number of households in City of London\n",
    "rental_households.loc[(rental_households.Area == 'City of London'), ['Households']] = (\n",
    "    rental_households[rental_households.Area == 'London'].Households.values - \n",
    "    sum(rental_households[rental_households.Area != 'London'].Households))\n",
    "\n",
    "# Drop data for London\n",
    "rental_households.drop(rental_households[rental_households.Area == 'London'].index, inplace = True)"
   ]
  },
  {
   "cell_type": "markdown",
   "id": "553bc687",
   "metadata": {},
   "source": [
    "Define function to read in rental rate data for scalability"
   ]
  },
  {
   "cell_type": "code",
   "execution_count": 7,
   "id": "f0eb7ac7",
   "metadata": {},
   "outputs": [],
   "source": [
    "# Define function to load and clean private rental rate data\n",
    "\n",
    "def load_rental(year, sheet):\n",
    "    \n",
    "    '''\n",
    "    Load and clean the data on private rental\n",
    "\n",
    "    :param year: year of data\n",
    "    :param sheet: sheet name for property type\n",
    "    :return: cleaned up pandas dataframe\n",
    "    '''\n",
    "    \n",
    "    # Set number of footers to skip\n",
    "    if sheet == 'Table2.2':\n",
    "        footer = 36  # 36 for studio\n",
    "    else:\n",
    "        footer = 37  # 37 for all other property type\n",
    "    \n",
    "    # Read data\n",
    "    url = 'https://github.com/ngliangwei15/CASA0013-Assignment3/blob/main/privaterentalmarketstatistics'+ (\n",
    "        year + '.xls?raw=true')\n",
    "    df = pd.read_excel(url, sheet_name = sheet, skiprows = 6, skipfooter = footer)\n",
    "    \n",
    "    # Drop unused columns\n",
    "    df.drop(columns = ['Unnamed: 0', 'LA Code1'], inplace = True)\n",
    "    \n",
    "    # Keep only data on London boroughs (Area Code starts with E09)\n",
    "    df = df[df['Area Code1'].str.match(r'E09')].sort_values(by = ['Area Code1'], ascending=True)\n",
    "    \n",
    "    # Replace suppressed data with 0\n",
    "    df = df.replace({'-': 0,\n",
    "                     '.': 0,\n",
    "                     '..': 0})\n",
    "    \n",
    "    # return cleaned df\n",
    "    return df.reset_index(drop = True)"
   ]
  },
  {
   "cell_type": "markdown",
   "id": "1271b4e8",
   "metadata": {},
   "source": [
    "Rental rate in 2020"
   ]
  },
  {
   "cell_type": "code",
   "execution_count": 8,
   "id": "76d69faa",
   "metadata": {},
   "outputs": [],
   "source": [
    "# Year\n",
    "year = '2020'\n",
    "\n",
    "# Dictionary for property type and sheet name\n",
    "prop_sheet = {'studio': 'Table2.2',\n",
    "              '1br': 'Table2.3',\n",
    "              '2br': 'Table2.4',\n",
    "              '3br': 'Table2.5',\n",
    "              '4br': 'Table2.6'}\n",
    "\n",
    "# Read data for each property type\n",
    "for prop, sheet in prop_sheet.items():\n",
    "    globals()['rental_' + prop] = load_rental(year, sheet)"
   ]
  },
  {
   "cell_type": "code",
   "execution_count": 9,
   "id": "e41fd383",
   "metadata": {},
   "outputs": [],
   "source": [
    "# Compute average of median rental price, weighted by the count of rents\n",
    "\n",
    "## Initialize dataframe\n",
    "rental2020_median = rental_studio[['Area Code1', 'Area']]\n",
    "\n",
    "## Add two columns - one to track total counts, one to track product of counts and median rental\n",
    "rental2020_median = rental2020_median.reindex(columns = [*rental2020_median.columns.tolist(),\n",
    "                                                         'Counts','Median'], fill_value = 0)\n",
    "\n",
    "## Add counts, and product of counts and median rental, for all property types\n",
    "for prop in prop_sheet.keys():\n",
    "    ## Add counts\n",
    "    rental2020_median.Counts = rental2020_median.Counts + globals()['rental_' + prop]['Count of rents']\n",
    "    ## Add product of counts and median rental\n",
    "    rental2020_median.Median = rental2020_median.Median + (\n",
    "        (globals()['rental_' + prop]['Count of rents'] * globals()['rental_' + prop]['Median']))\n",
    "\n",
    "## Compute average of median rent\n",
    "rental2020_median.Median = rental2020_median.Median / rental2020_median.Counts"
   ]
  },
  {
   "cell_type": "markdown",
   "id": "34c11cd1",
   "metadata": {},
   "source": [
    "### London boroughs"
   ]
  },
  {
   "cell_type": "code",
   "execution_count": 10,
   "id": "e8e4131e",
   "metadata": {},
   "outputs": [
    {
     "name": "stderr",
     "output_type": "stream",
     "text": [
      "/opt/conda/envs/sds2021/lib/python3.9/site-packages/geopandas/geodataframe.py:577: RuntimeWarning: Sequential read of iterator was interrupted. Resetting iterator. This can negatively impact the performance.\n",
      "  for feature in features_lst:\n"
     ]
    }
   ],
   "source": [
    "# Read boundaries\n",
    "url = 'https://github.com/ngliangwei15/CASA0013-Assignment3/blob/main/statistical-gis-boundaries-london.gpkg?raw=true'\n",
    "boros = gpd.read_file(url)\n",
    "boros = boros.to_crs('epsg:27700')\n",
    "\n",
    "# Keep only useful columns\n",
    "boros = boros[['NAME', 'GSS_CODE', 'geometry']]"
   ]
  },
  {
   "cell_type": "markdown",
   "id": "3030a28f",
   "metadata": {},
   "source": [
    "### Join and map proxy\n",
    "\n",
    "Compute total income from Airbnb for each borough"
   ]
  },
  {
   "cell_type": "code",
   "execution_count": 11,
   "id": "a5ca00f3",
   "metadata": {},
   "outputs": [],
   "source": [
    "# Join Airbnb listings to boroughs\n",
    "airbnb_2020_boros = gpd.sjoin(airbnb_2020, boros, op = 'within', how = 'left')\n",
    "\n",
    "# Drop listings with no borough names (outside boroughs)\n",
    "airbnb_2020_boros.drop(index=airbnb_2020_boros[airbnb_2020_boros.NAME.isnull()].index, axis=1, inplace=True)\n",
    "\n",
    "# Compute income from Airbnb for each borough\n",
    "airbnb_income_2020 = airbnb_2020_boros.groupby('NAME').agg({\"airbnb_income\": np.sum}).reset_index()\n",
    "\n",
    "# Join back to boros geodataframe\n",
    "boros = boros.merge(airbnb_income_2020, on = 'NAME')"
   ]
  },
  {
   "cell_type": "markdown",
   "id": "aa6ef08d",
   "metadata": {},
   "source": [
    "Compute total private rental income for each borough"
   ]
  },
  {
   "cell_type": "code",
   "execution_count": 12,
   "id": "4671d5fa",
   "metadata": {},
   "outputs": [],
   "source": [
    "boros['rental_income'] = rental_households.Households.values * rental2020_median.Median.values * 12"
   ]
  },
  {
   "cell_type": "markdown",
   "id": "56cbe3c6",
   "metadata": {},
   "source": [
    "Compute and map proxy 1"
   ]
  },
  {
   "cell_type": "code",
   "execution_count": 13,
   "id": "5ed07140",
   "metadata": {},
   "outputs": [],
   "source": [
    "boros['prop_airbnb'] = boros.airbnb_income / (boros.airbnb_income + boros.rental_income) * 100"
   ]
  },
  {
   "cell_type": "code",
   "execution_count": 14,
   "id": "a5d58ded",
   "metadata": {},
   "outputs": [
    {
     "data": {
      "text/plain": [
       "<AxesSubplot:>"
      ]
     },
     "execution_count": 14,
     "metadata": {},
     "output_type": "execute_result"
    },
    {
     "data": {
      "image/png": "[encoded data removed]",
      "text/plain": [
       "<Figure size 432x288 with 2 Axes>"
      ]
     },
     "metadata": {
      "needs_background": "light"
     },
     "output_type": "display_data"
    }
   ],
   "source": [
    "boros.plot(column = 'prop_airbnb', legend = True)"
   ]
  },
  {
   "cell_type": "markdown",
   "id": "c1a96f79",
   "metadata": {},
   "source": [
    "## Proxy 2: Proportion of Private Rent Earned by Airbnb Listings"
   ]
  },
  {
   "cell_type": "markdown",
   "id": "f36245e8",
   "metadata": {},
   "source": [
    "### Airbnb data for 2021"
   ]
  },
  {
   "cell_type": "markdown",
   "id": "2ac3abb2",
   "metadata": {},
   "source": [
    "Read data"
   ]
  },
  {
   "cell_type": "code",
   "execution_count": 15,
   "id": "ac849ad4",
   "metadata": {},
   "outputs": [
    {
     "name": "stdout",
     "output_type": "stream",
     "text": [
      "Loading and cleaning Airbnb data for 20211010\n",
      "67903 listings were loaded.\n",
      "19238 listings were left after removing inactive listings.\n",
      "12206 listings were left after keeping only entire home/apt listings.\n"
     ]
    },
    {
     "name": "stderr",
     "output_type": "stream",
     "text": [
      "/tmp/ipykernel_78/1773992481.py:33: FutureWarning: The default value of regex will change from True to False in a future version. In addition, single character regular expressions will *not* be treated as literal strings when regex=True.\n",
      "  df['price'] = df.price.str.replace('$','').str.replace(',','').astype(float)\n"
     ]
    }
   ],
   "source": [
    "# Load Airbnb data scraped on 10 Oct 2021\n",
    "date_scraped = '20211010'\n",
    "airbnb_2021 = load_airbnb(date_scraped)"
   ]
  },
  {
   "cell_type": "markdown",
   "id": "9b935d8f",
   "metadata": {},
   "source": [
    "Compute median Airbnb price"
   ]
  },
  {
   "cell_type": "code",
   "execution_count": 16,
   "id": "ec16d60e",
   "metadata": {},
   "outputs": [],
   "source": [
    "# Join Airbnb listings to boroughs\n",
    "airbnb_2021_boros = gpd.sjoin(airbnb_2021, boros, op = 'within', how = 'left')\n",
    "\n",
    "# Drop listings with no borough names (outside boroughs)\n",
    "airbnb_2021_boros.drop(index=airbnb_2021_boros[airbnb_2021_boros.NAME.isnull()].index, axis=1, inplace=True)\n",
    "\n",
    "# Compute median price for Airbnb for each borough\n",
    "airbnb_price_2021 = airbnb_2021_boros.groupby('NAME').agg({\"price\": np.median}).reset_index()\n",
    "\n",
    "# Join back to boros geodataframe\n",
    "boros = boros.merge(airbnb_price_2021, on = 'NAME')"
   ]
  },
  {
   "cell_type": "markdown",
   "id": "6370c7da",
   "metadata": {},
   "source": [
    "### Rental data for 2021"
   ]
  },
  {
   "cell_type": "code",
   "execution_count": 17,
   "id": "f11c63d7",
   "metadata": {},
   "outputs": [],
   "source": [
    "# Year\n",
    "year = '2021'\n",
    "\n",
    "# Dictionary for property type and sheet name\n",
    "prop_sheet = {'studio': 'Table2.2',\n",
    "              '1br': 'Table2.3',\n",
    "              '2br': 'Table2.4',\n",
    "              '3br': 'Table2.5',\n",
    "              '4br': 'Table2.6'}\n",
    "\n",
    "# Read data for each property type\n",
    "for prop, sheet in prop_sheet.items():\n",
    "    globals()['rental_' + prop] = load_rental(year, sheet)"
   ]
  },
  {
   "cell_type": "code",
   "execution_count": 18,
   "id": "d2ea88d1",
   "metadata": {},
   "outputs": [],
   "source": [
    "# Compute average of median rental price, weighted by the count of rents\n",
    "\n",
    "## Initialize dataframe\n",
    "rental2021_median = rental_studio[['Area Code1', 'Area']]\n",
    "\n",
    "## Add two columns - one to track total counts, one to track product of counts and median rental\n",
    "rental2021_median = rental2021_median.reindex(columns = [*rental2021_median.columns.tolist(),\n",
    "                                                         'Counts','Median'], fill_value = 0)\n",
    "\n",
    "## Add counts, and product of counts and median rental, for all property types\n",
    "for prop in prop_sheet.keys():\n",
    "    ## Add counts\n",
    "    rental2021_median.Counts = rental2021_median.Counts + globals()['rental_' + prop]['Count of rents']\n",
    "    ## Add product of counts and median rental\n",
    "    rental2021_median.Median = rental2021_median.Median + (\n",
    "        (globals()['rental_' + prop]['Count of rents'] * globals()['rental_' + prop]['Median']))\n",
    "\n",
    "## Compute average of median rent\n",
    "rental2021_median.Median = rental2021_median.Median / rental2021_median.Counts"
   ]
  },
  {
   "cell_type": "code",
   "execution_count": 19,
   "id": "41d60c63",
   "metadata": {},
   "outputs": [],
   "source": [
    "# Join median rent to boundaries\n",
    "boros = boros.merge(rental2021_median, left_on = 'GSS_CODE', right_on = 'Area Code1')\n",
    "boros.drop(columns = ['Area Code1', 'Area','Counts'], inplace = True)"
   ]
  },
  {
   "cell_type": "markdown",
   "id": "0775faaf",
   "metadata": {},
   "source": [
    "### Compute and map proxy 2"
   ]
  },
  {
   "cell_type": "code",
   "execution_count": 20,
   "id": "056f25fe",
   "metadata": {},
   "outputs": [],
   "source": [
    "boros['prop_price'] = (boros.price * 365 * 0.7) / (boros.Median * 12) * 100"
   ]
  },
  {
   "cell_type": "code",
   "execution_count": 21,
   "id": "0604dee5",
   "metadata": {},
   "outputs": [
    {
     "data": {
      "text/plain": [
       "<AxesSubplot:>"
      ]
     },
     "execution_count": 21,
     "metadata": {},
     "output_type": "execute_result"
    },
    {
     "data": {
      "image/png": "[encoded data removed]",
      "text/plain": [
       "<Figure size 432x288 with 2 Axes>"
      ]
     },
     "metadata": {
      "needs_background": "light"
     },
     "output_type": "display_data"
    }
   ],
   "source": [
    "boros.plot(column = 'prop_price', legend = True)"
   ]
  },
  {
   "cell_type": "markdown",
   "id": "ed56f74f",
   "metadata": {},
   "source": [
    "## Clustering\n",
    "\n",
    "This is a test to see if we can identify clusters using K-Means clustering."
   ]
  },
  {
   "cell_type": "code",
   "execution_count": 52,
   "id": "fb96d87c",
   "metadata": {},
   "outputs": [
    {
     "data": {
      "text/plain": [
       "<matplotlib.collections.PathCollection at 0x7fabe4686910>"
      ]
     },
     "execution_count": 52,
     "metadata": {},
     "output_type": "execute_result"
    },
    {
     "data": {
      "image/png": "[encoded data removed]",
      "text/plain": [
       "<Figure size 432x288 with 1 Axes>"
      ]
     },
     "metadata": {
      "needs_background": "light"
     },
     "output_type": "display_data"
    }
   ],
   "source": [
    "# Extract the two proxies\n",
    "\n",
    "cluster = boros[['NAME', 'geometry', 'prop_airbnb', 'prop_price']]\n",
    "plt.scatter(cluster.prop_airbnb, cluster.prop_price)"
   ]
  },
  {
   "cell_type": "markdown",
   "id": "038ecb09",
   "metadata": {},
   "source": [
    "Based on scatter plot above, it seems like there are some distinct clusters."
   ]
  },
  {
   "cell_type": "code",
   "execution_count": 79,
   "id": "82fb51ea",
   "metadata": {},
   "outputs": [],
   "source": [
    "cols = ['prop_airbnb', 'prop_price']\n",
    "scalers = [MinMaxScaler().fit(cluster[x].values.reshape(-1,1)) for x in cols]\n",
    "\n",
    "data_slice = cluster[cols].copy()\n",
    "\n",
    "for i in range(0, len(cols)):\n",
    "    # Ditto this -- can you explain what this code is doing\n",
    "    data_slice[cols[i]] = scalers[i].transform(data_slice[cols[i]].values.reshape(-1,1))"
   ]
  },
  {
   "cell_type": "code",
   "execution_count": 83,
   "id": "4eae194b",
   "metadata": {},
   "outputs": [
    {
     "data": {
      "text/plain": [
       "<matplotlib.collections.PathCollection at 0x7fabda3e18e0>"
      ]
     },
     "execution_count": 83,
     "metadata": {},
     "output_type": "execute_result"
    },
    {
     "data": {
      "image/png": "[encoded data removed]",
      "text/plain": [
       "<Figure size 432x288 with 1 Axes>"
      ]
     },
     "metadata": {
      "needs_background": "light"
     },
     "output_type": "display_data"
    }
   ],
   "source": [
    "plt.scatter(data_slice.prop_airbnb, data_slice.prop_price)"
   ]
  },
  {
   "cell_type": "code",
   "execution_count": 82,
   "id": "5a7b0006",
   "metadata": {},
   "outputs": [
    {
     "name": "stdout",
     "output_type": "stream",
     "text": [
      "{'n': [2, 3, 4, 5, 6, 7], 'ss': [0.5580132070328856, 0.5881751525979119, 0.41713977951714776, 0.4091672062642813, 0.3827593363563794, 0.3944488301865358]}\n"
     ]
    },
    {
     "data": {
      "text/plain": [
       "[<matplotlib.lines.Line2D at 0x7fabda482700>]"
      ]
     },
     "execution_count": 82,
     "metadata": {},
     "output_type": "execute_result"
    },
    {
     "data": {
      "image/png": "[encoded data removed]",
      "text/plain": [
       "<Figure size 432x288 with 1 Axes>"
      ]
     },
     "metadata": {
      "needs_background": "light"
     },
     "output_type": "display_data"
    }
   ],
   "source": [
    "# Trying for different numbers of cluster\n",
    "results = {'n':[], 'ss':[]}\n",
    "\n",
    "for num_clusters in range(2,8,1):\n",
    "    \n",
    "    # Do KMeans clustering\n",
    "    kmeans_output = sklc.KMeans(n_clusters=num_clusters, n_init=100).fit(data_slice)\n",
    "    \n",
    "    # Calculate silhouette score\n",
    "    clustering_ids_kmeans = kmeans_output.labels_\n",
    "    silhouette_kmeans = sklm.silhouette_score(data_slice, clustering_ids_kmeans)\n",
    "    \n",
    "    results['n'].append(num_clusters)\n",
    "    results['ss'].append(silhouette_kmeans)\n",
    "    \n",
    "print(results)\n",
    "plt.plot(results['n'], results['ss'])"
   ]
  },
  {
   "cell_type": "code",
   "execution_count": 84,
   "id": "e81537e5",
   "metadata": {},
   "outputs": [
    {
     "name": "stderr",
     "output_type": "stream",
     "text": [
      "/opt/conda/envs/sds2021/lib/python3.9/site-packages/pandas/core/frame.py:3607: SettingWithCopyWarning: \n",
      "A value is trying to be set on a copy of a slice from a DataFrame.\n",
      "Try using .loc[row_indexer,col_indexer] = value instead\n",
      "\n",
      "See the caveats in the documentation: https://pandas.pydata.org/pandas-docs/stable/user_guide/indexing.html#returning-a-view-versus-a-copy\n",
      "  self._set_item(key, value)\n"
     ]
    }
   ],
   "source": [
    "# Proceed with clustering with 3 clusters\n",
    "\n",
    "# This line sets the number of clusters you want to find:\n",
    "num_clusters = 3\n",
    "\n",
    "# This line performs the k-means clustering:\n",
    "kmeans_output = sklc.KMeans(n_clusters=num_clusters, n_init=100, random_state=42).fit(data_slice)\n",
    "\n",
    "# This line creates a list giving the final cluster number of each point:\n",
    "clustering_ids_kmeans = kmeans_output.labels_\n",
    "\n",
    "# These lines add the cluster IDs to the original data and save the data with these added cluster IDs.\n",
    "cluster[\"Cluster\"] = clustering_ids_kmeans"
   ]
  },
  {
   "cell_type": "code",
   "execution_count": 85,
   "id": "a2748a10",
   "metadata": {},
   "outputs": [
    {
     "data": {
      "text/plain": [
       "<matplotlib.collections.PathCollection at 0x7fabda3d2640>"
      ]
     },
     "execution_count": 85,
     "metadata": {},
     "output_type": "execute_result"
    },
    {
     "data": {
      "image/png": "[encoded data removed]",
      "text/plain": [
       "<Figure size 432x288 with 1 Axes>"
      ]
     },
     "metadata": {
      "needs_background": "light"
     },
     "output_type": "display_data"
    }
   ],
   "source": [
    "cluster0 = cluster[cluster.Cluster == 0]\n",
    "cluster1 = cluster[cluster.Cluster == 1]\n",
    "cluster2 = cluster[cluster.Cluster == 2]\n",
    "\n",
    "plt.scatter(cluster0.prop_airbnb, cluster0.prop_price)\n",
    "plt.scatter(cluster1.prop_airbnb, cluster1.prop_price)\n",
    "plt.scatter(cluster2.prop_airbnb, cluster2.prop_price)\n",
    "\n",
    "#plt.show()"
   ]
  },
  {
   "cell_type": "code",
   "execution_count": 87,
   "id": "6da705da",
   "metadata": {},
   "outputs": [
    {
     "data": {
      "text/plain": [
       "<AxesSubplot:>"
      ]
     },
     "execution_count": 87,
     "metadata": {},
     "output_type": "execute_result"
    },
    {
     "data": {
      "image/png": "[encoded data removed]",
      "text/plain": [
       "<Figure size 432x288 with 2 Axes>"
      ]
     },
     "metadata": {
      "needs_background": "light"
     },
     "output_type": "display_data"
    }
   ],
   "source": [
    "cluster.plot(column = 'Cluster', legend = True)"
   ]
  },
  {
   "cell_type": "markdown",
   "id": "897253d6",
   "metadata": {},
   "source": [
    "## To do list\n",
    "- sort boros\n",
    "- make the computation of total Airbnb income and median Airbnb price into a function\n",
    "- make the compuatation of median rental rate into a function\n",
    "- standardize naming convention in boro gdf\n",
    "- Investigate Havering"
   ]
  },
  {
   "cell_type": "code",
   "execution_count": null,
   "id": "50064679",
   "metadata": {},
   "outputs": [],
   "source": []
  }
 ],
 "metadata": {
  "kernelspec": {
   "display_name": "Python 3 (ipykernel)",
   "language": "python",
   "name": "python3"
  },
  "language_info": {
   "codemirror_mode": {
    "name": "ipython",
    "version": 3
   },
   "file_extension": ".py",
   "mimetype": "text/x-python",
   "name": "python",
   "nbconvert_exporter": "python",
   "pygments_lexer": "ipython3",
   "version": "3.9.6"
  }
 },
 "nbformat": 4,
 "nbformat_minor": 5
}
